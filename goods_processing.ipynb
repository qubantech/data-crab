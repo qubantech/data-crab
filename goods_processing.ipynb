{
 "cells": [
  {
   "cell_type": "code",
   "execution_count": 1,
   "metadata": {},
   "outputs": [],
   "source": [
    "from sklearn.feature_extraction.text import TfidfVectorizer\n",
    "from sklearn.metrics.pairwise import linear_kernel, cosine_similarity\n",
    "import json\n",
    "from urllib.request import urlopen\n",
    "import requests,json,os,sys,time,re\n",
    "import pandas as pd\n",
    "import numpy as np\n",
    "import nltk\n",
    "from nltk.corpus import stopwords\n",
    "import warnings\n",
    "\n",
    "warnings.filterwarnings(\"ignore\")"
   ]
  },
  {
   "cell_type": "markdown",
   "metadata": {},
   "source": [
    "## Import data"
   ]
  },
  {
   "cell_type": "code",
   "execution_count": 2,
   "metadata": {},
   "outputs": [],
   "source": [
    "goods_df = pd.read_csv('goods.csv')\n",
    "goods_name_list = goods_df['name']\n",
    "\n",
    "# nltk.download()\n",
    "# goods_df"
   ]
  },
  {
   "cell_type": "code",
   "execution_count": 23,
   "metadata": {},
   "outputs": [],
   "source": [
    "russian_stopwords = stopwords.words(\"russian\")\n",
    "\n",
    "tfidf_vectorizer = TfidfVectorizer(\n",
    "    strip_accents='unicode', stop_words=russian_stopwords)    \n",
    "tfidf = tfidf_vectorizer.fit_transform(list(goods_df['description']))\n",
    "\n",
    "# Need to convert every Series in DataFrame to List format\n",
    "# tfidf_vectorizer.get_feature_names()\n",
    "\n",
    "# Array mapping from feature integer indices to feature name\n",
    "# print(tfidf)  # Tf-idf-weighted document-term matrix.\n"
   ]
  },
  {
   "cell_type": "code",
   "execution_count": null,
   "metadata": {},
   "outputs": [],
   "source": [
    "dic_recommended_1 = {}\n",
    "for index in range(goods_df['description'].shape[0]):\n",
    "    print(tfidf[2])\n",
    "    similarities_1 = linear_kernel(tfidf[index],tfidf).flatten()\n",
    "    related_docs_indices_1 = (-similarities_1).argsort()[:10]\n",
    "   \n",
    "    dic_recommended_1.update({goods_name_list[index]:[goods_name_list[i] for i in related_docs_indices_1]})\n",
    "df_content_based_results_1 = pd.DataFrame(dic_recommended_1)\n",
    "df_content_based_results_1.reset_index(inplace=True)"
   ]
  },
  {
   "cell_type": "code",
   "execution_count": 27,
   "metadata": {},
   "outputs": [
    {
     "data": {
      "text/html": [
       "<div>\n",
       "<style scoped>\n",
       "    .dataframe tbody tr th:only-of-type {\n",
       "        vertical-align: middle;\n",
       "    }\n",
       "\n",
       "    .dataframe tbody tr th {\n",
       "        vertical-align: top;\n",
       "    }\n",
       "\n",
       "    .dataframe thead th {\n",
       "        text-align: right;\n",
       "    }\n",
       "</style>\n",
       "<table border=\"1\" class=\"dataframe\">\n",
       "  <thead>\n",
       "    <tr style=\"text-align: right;\">\n",
       "      <th></th>\n",
       "      <th>1</th>\n",
       "      <th>2</th>\n",
       "      <th>3</th>\n",
       "    </tr>\n",
       "  </thead>\n",
       "  <tbody>\n",
       "    <tr>\n",
       "      <th>index</th>\n",
       "      <td>1</td>\n",
       "      <td>2</td>\n",
       "      <td>3</td>\n",
       "    </tr>\n",
       "    <tr>\n",
       "      <th>кукуруза</th>\n",
       "      <td>яблоко</td>\n",
       "      <td>булочка с корицей</td>\n",
       "      <td>мороженое</td>\n",
       "    </tr>\n",
       "    <tr>\n",
       "      <th>яблоко</th>\n",
       "      <td>кукуруза</td>\n",
       "      <td>булочка с корицей</td>\n",
       "      <td>мороженое</td>\n",
       "    </tr>\n",
       "    <tr>\n",
       "      <th>чебурек с сыром</th>\n",
       "      <td>пирожок с мясом</td>\n",
       "      <td>пирожок с фруктами</td>\n",
       "      <td>чебурек с мясом</td>\n",
       "    </tr>\n",
       "    <tr>\n",
       "      <th>чебурек с мясом</th>\n",
       "      <td>чебурек с курицей</td>\n",
       "      <td>пирожок с мясом</td>\n",
       "      <td>чебурек с сыром</td>\n",
       "    </tr>\n",
       "  </tbody>\n",
       "</table>\n",
       "</div>"
      ],
      "text/plain": [
       "                                 1                   2                3\n",
       "index                            1                   2                3\n",
       "кукуруза                    яблоко   булочка с корицей        мороженое\n",
       "яблоко                    кукуруза   булочка с корицей        мороженое\n",
       "чебурек с сыром    пирожок с мясом  пирожок с фруктами  чебурек с мясом\n",
       "чебурек с мясом  чебурек с курицей     пирожок с мясом  чебурек с сыром"
      ]
     },
     "execution_count": 27,
     "metadata": {},
     "output_type": "execute_result"
    }
   ],
   "source": [
    "df_content_based_results_1.shape\n",
    "df_content_based_results_1[1:4].T.head()"
   ]
  },
  {
   "cell_type": "code",
   "execution_count": null,
   "metadata": {},
   "outputs": [],
   "source": [
    "import uuid\n",
    "\n",
    "new_values = goods_df['uuid']\n",
    "for i in range(0,8):\n",
    "    new_values[i] = uuid.uuid4()\n",
    "    \n",
    "# new_values[:-1]\n",
    "# goods_df['id'].replace(goods_df['id'], new_values)"
   ]
  },
  {
   "cell_type": "code",
   "execution_count": null,
   "metadata": {},
   "outputs": [],
   "source": []
  }
 ],
 "metadata": {
  "interpreter": {
   "hash": "633beeccc5aae2a91f083a5022d2562ff9167fb479fb60de1865fad6d93786a2"
  },
  "kernelspec": {
   "display_name": "Python 3.8.10 ('venv')",
   "language": "python",
   "name": "python3"
  },
  "language_info": {
   "codemirror_mode": {
    "name": "ipython",
    "version": 3
   },
   "file_extension": ".py",
   "mimetype": "text/x-python",
   "name": "python",
   "nbconvert_exporter": "python",
   "pygments_lexer": "ipython3",
   "version": "3.8.10"
  },
  "orig_nbformat": 4
 },
 "nbformat": 4,
 "nbformat_minor": 2
}
